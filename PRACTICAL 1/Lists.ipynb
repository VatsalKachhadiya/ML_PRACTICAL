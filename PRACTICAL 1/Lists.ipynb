{
  "nbformat": 4,
  "nbformat_minor": 0,
  "metadata": {
    "colab": {
      "name": "Untitled0.ipynb",
      "provenance": [],
      "collapsed_sections": []
    },
    "kernelspec": {
      "name": "python3",
      "display_name": "Python 3"
    }
  },
  "cells": [
    {
      "cell_type": "code",
      "metadata": {
        "id": "I1jbL5yIUiXT"
      },
      "source": [
        "list1 = []\r\n",
        "list2 = [\"y\",\"a\",\"s\",\"h\",\"v\",\"i\"]"
      ],
      "execution_count": 1,
      "outputs": []
    },
    {
      "cell_type": "code",
      "metadata": {
        "id": "ryIo5WNGa3fT"
      },
      "source": [
        "list1.append([\"My\",\"name\",\"is\",\"Yashvi\"])"
      ],
      "execution_count": 2,
      "outputs": []
    },
    {
      "cell_type": "code",
      "metadata": {
        "colab": {
          "base_uri": "https://localhost:8080/"
        },
        "id": "UKeWestIbLxx",
        "outputId": "9934cbfc-ca0e-4cb7-df5f-ce549bcd4426"
      },
      "source": [
        "list1"
      ],
      "execution_count": 3,
      "outputs": [
        {
          "output_type": "execute_result",
          "data": {
            "text/plain": [
              "[['My', 'name', 'is', 'Yashvi']]"
            ]
          },
          "metadata": {
            "tags": []
          },
          "execution_count": 3
        }
      ]
    },
    {
      "cell_type": "code",
      "metadata": {
        "colab": {
          "base_uri": "https://localhost:8080/"
        },
        "id": "v50AkT_3bRFn",
        "outputId": "95e0aa38-4987-4df4-a981-b255cecb9c7b"
      },
      "source": [
        "list2"
      ],
      "execution_count": 4,
      "outputs": [
        {
          "output_type": "execute_result",
          "data": {
            "text/plain": [
              "['y', 'a', 's', 'h', 'v', 'i']"
            ]
          },
          "metadata": {
            "tags": []
          },
          "execution_count": 4
        }
      ]
    },
    {
      "cell_type": "code",
      "metadata": {
        "colab": {
          "base_uri": "https://localhost:8080/",
          "height": 35
        },
        "id": "HWC8ybApbVqy",
        "outputId": "824bc1df-8054-4a1d-915b-1e62bdd957a5"
      },
      "source": [
        "list1[0][3]"
      ],
      "execution_count": 5,
      "outputs": [
        {
          "output_type": "execute_result",
          "data": {
            "application/vnd.google.colaboratory.intrinsic+json": {
              "type": "string"
            },
            "text/plain": [
              "'Yashvi'"
            ]
          },
          "metadata": {
            "tags": []
          },
          "execution_count": 5
        }
      ]
    },
    {
      "cell_type": "code",
      "metadata": {
        "colab": {
          "base_uri": "https://localhost:8080/"
        },
        "id": "X0gcFuJCbfuV",
        "outputId": "79e40e53-5207-475e-b3db-5184ba008353"
      },
      "source": [
        "list2[-4:]"
      ],
      "execution_count": 6,
      "outputs": [
        {
          "output_type": "execute_result",
          "data": {
            "text/plain": [
              "['s', 'h', 'v', 'i']"
            ]
          },
          "metadata": {
            "tags": []
          },
          "execution_count": 6
        }
      ]
    },
    {
      "cell_type": "code",
      "metadata": {
        "colab": {
          "base_uri": "https://localhost:8080/"
        },
        "id": "CD7pOF31bj0N",
        "outputId": "417a205a-e063-47fd-c8ce-e7c7e73e54c8"
      },
      "source": [
        "list2[:-2]"
      ],
      "execution_count": 7,
      "outputs": [
        {
          "output_type": "execute_result",
          "data": {
            "text/plain": [
              "['y', 'a', 's', 'h']"
            ]
          },
          "metadata": {
            "tags": []
          },
          "execution_count": 7
        }
      ]
    },
    {
      "cell_type": "code",
      "metadata": {
        "colab": {
          "base_uri": "https://localhost:8080/"
        },
        "id": "IdLwTVA_bqQ6",
        "outputId": "31ee40e8-7291-4411-ed43-6a8e3a069e56"
      },
      "source": [
        "list2[1:3]"
      ],
      "execution_count": 8,
      "outputs": [
        {
          "output_type": "execute_result",
          "data": {
            "text/plain": [
              "['a', 's']"
            ]
          },
          "metadata": {
            "tags": []
          },
          "execution_count": 8
        }
      ]
    },
    {
      "cell_type": "code",
      "metadata": {
        "colab": {
          "base_uri": "https://localhost:8080/"
        },
        "id": "MJrb0hMmb5bB",
        "outputId": "7f14893c-28d1-409a-dc7e-787a897288ba"
      },
      "source": [
        "list1.extend([\"Hey!\"])\r\n",
        "list1"
      ],
      "execution_count": 9,
      "outputs": [
        {
          "output_type": "execute_result",
          "data": {
            "text/plain": [
              "[['My', 'name', 'is', 'Yashvi'], 'Hey!']"
            ]
          },
          "metadata": {
            "tags": []
          },
          "execution_count": 9
        }
      ]
    },
    {
      "cell_type": "code",
      "metadata": {
        "colab": {
          "base_uri": "https://localhost:8080/"
        },
        "id": "W1kRgsLvcEwd",
        "outputId": "444b8eb6-c0d9-42c4-864e-005f6741a638"
      },
      "source": [
        "list3 = list1 + list2\r\n",
        "list3"
      ],
      "execution_count": 11,
      "outputs": [
        {
          "output_type": "execute_result",
          "data": {
            "text/plain": [
              "[['My', 'name', 'is', 'Yashvi'], 'Hey!', 'y', 'a', 's', 'h', 'v', 'i']"
            ]
          },
          "metadata": {
            "tags": []
          },
          "execution_count": 11
        }
      ]
    },
    {
      "cell_type": "code",
      "metadata": {
        "colab": {
          "base_uri": "https://localhost:8080/"
        },
        "id": "GuaaZH4EcTan",
        "outputId": "4582d0fb-9d95-43d2-e0ae-7ea8d9a35065"
      },
      "source": [
        "type(list3),len(list3)"
      ],
      "execution_count": 15,
      "outputs": [
        {
          "output_type": "execute_result",
          "data": {
            "text/plain": [
              "(list, 8)"
            ]
          },
          "metadata": {
            "tags": []
          },
          "execution_count": 15
        }
      ]
    },
    {
      "cell_type": "code",
      "metadata": {
        "id": "vB_1OQRKcdNj"
      },
      "source": [
        "list3.append(500)"
      ],
      "execution_count": 18,
      "outputs": []
    },
    {
      "cell_type": "code",
      "metadata": {
        "colab": {
          "base_uri": "https://localhost:8080/"
        },
        "id": "zBqwKFMSc5Fn",
        "outputId": "98f680cc-90e3-4d0f-8034-28b89230e0fe"
      },
      "source": [
        "list3"
      ],
      "execution_count": 19,
      "outputs": [
        {
          "output_type": "execute_result",
          "data": {
            "text/plain": [
              "[['My', 'name', 'is', 'Yashvi'],\n",
              " 'Hey!',\n",
              " 'y',\n",
              " 'a',\n",
              " 's',\n",
              " 'h',\n",
              " 'v',\n",
              " 'i',\n",
              " 500,\n",
              " 500,\n",
              " 500]"
            ]
          },
          "metadata": {
            "tags": []
          },
          "execution_count": 19
        }
      ]
    },
    {
      "cell_type": "code",
      "metadata": {
        "id": "q49oE074dGX8"
      },
      "source": [
        "del list3[1:4]"
      ],
      "execution_count": 20,
      "outputs": []
    },
    {
      "cell_type": "code",
      "metadata": {
        "colab": {
          "base_uri": "https://localhost:8080/"
        },
        "id": "gnV059n3dSTl",
        "outputId": "f2a5cdb5-6a1f-4cd5-80c8-cbb6913c6133"
      },
      "source": [
        "list3"
      ],
      "execution_count": 21,
      "outputs": [
        {
          "output_type": "execute_result",
          "data": {
            "text/plain": [
              "[['My', 'name', 'is', 'Yashvi'], 's', 'h', 'v', 'i', 500, 500, 500]"
            ]
          },
          "metadata": {
            "tags": []
          },
          "execution_count": 21
        }
      ]
    },
    {
      "cell_type": "code",
      "metadata": {
        "colab": {
          "base_uri": "https://localhost:8080/"
        },
        "id": "YLOTVYhBdUCj",
        "outputId": "c0225721-e691-48b8-8ebb-5e8f453e0f2e"
      },
      "source": [
        "list3[1:1] = [\"Learning Lists\"]\r\n",
        "list3"
      ],
      "execution_count": 22,
      "outputs": [
        {
          "output_type": "execute_result",
          "data": {
            "text/plain": [
              "[['My', 'name', 'is', 'Yashvi'],\n",
              " 'Learning Lists',\n",
              " 's',\n",
              " 'h',\n",
              " 'v',\n",
              " 'i',\n",
              " 500,\n",
              " 500,\n",
              " 500]"
            ]
          },
          "metadata": {
            "tags": []
          },
          "execution_count": 22
        }
      ]
    },
    {
      "cell_type": "code",
      "metadata": {
        "colab": {
          "base_uri": "https://localhost:8080/"
        },
        "id": "skxnRrtmdnPT",
        "outputId": "a118a195-7a2c-4b89-ee0c-ba6d8b8e5737"
      },
      "source": [
        "list1.clear()\r\n",
        "list1"
      ],
      "execution_count": 23,
      "outputs": [
        {
          "output_type": "execute_result",
          "data": {
            "text/plain": [
              "[]"
            ]
          },
          "metadata": {
            "tags": []
          },
          "execution_count": 23
        }
      ]
    },
    {
      "cell_type": "code",
      "metadata": {
        "colab": {
          "base_uri": "https://localhost:8080/"
        },
        "id": "Ke4pcxaVdrwu",
        "outputId": "fcac78f2-2ece-4d3b-eb7b-69d59b8a0c9c"
      },
      "source": [
        "list2.sort()\r\n",
        "list2"
      ],
      "execution_count": 24,
      "outputs": [
        {
          "output_type": "execute_result",
          "data": {
            "text/plain": [
              "['a', 'h', 'i', 's', 'v', 'y']"
            ]
          },
          "metadata": {
            "tags": []
          },
          "execution_count": 24
        }
      ]
    },
    {
      "cell_type": "code",
      "metadata": {
        "colab": {
          "base_uri": "https://localhost:8080/"
        },
        "id": "gd0trdTwdx7g",
        "outputId": "edb2820e-5733-4cae-c1f4-c44c75179a4a"
      },
      "source": [
        "list2.sort(reverse = True)\r\n",
        "list2"
      ],
      "execution_count": 25,
      "outputs": [
        {
          "output_type": "execute_result",
          "data": {
            "text/plain": [
              "['y', 'v', 's', 'i', 'h', 'a']"
            ]
          },
          "metadata": {
            "tags": []
          },
          "execution_count": 25
        }
      ]
    },
    {
      "cell_type": "code",
      "metadata": {
        "colab": {
          "base_uri": "https://localhost:8080/"
        },
        "id": "9lDV3bYHd4oM",
        "outputId": "a7fba8d4-82c6-4dbc-b0fe-fefb14c22374"
      },
      "source": [
        "#List_Comprehension\r\n",
        "\r\n",
        "exp = [3 ** i for i in range(20) if i>5 and 1<=15]\r\n",
        "print('Answer:',exp)"
      ],
      "execution_count": 26,
      "outputs": [
        {
          "output_type": "stream",
          "text": [
            "Answer: [729, 2187, 6561, 19683, 59049, 177147, 531441, 1594323, 4782969, 14348907, 43046721, 129140163, 387420489, 1162261467]\n"
          ],
          "name": "stdout"
        }
      ]
    },
    {
      "cell_type": "code",
      "metadata": {
        "id": "j21yrDhmeP4W"
      },
      "source": [
        ""
      ],
      "execution_count": null,
      "outputs": []
    }
  ]
}