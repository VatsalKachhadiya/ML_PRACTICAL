{
  "nbformat": 4,
  "nbformat_minor": 0,
  "metadata": {
    "colab": {
      "name": "Untitled4.ipynb",
      "provenance": [],
      "collapsed_sections": []
    },
    "kernelspec": {
      "name": "python3",
      "display_name": "Python 3"
    }
  },
  "cells": [
    {
      "cell_type": "code",
      "metadata": {
        "colab": {
          "base_uri": "https://localhost:8080/"
        },
        "id": "51I_W0ekmpzJ",
        "outputId": "fd824e06-d954-4ddb-bea9-56113ef3c5ae"
      },
      "source": [
        "import numpy as np\r\n",
        "\r\n",
        "arr1 = np.array([[[1,2,3,4,5],[1,2,3,4,6]],[[0,9,8,7,7],[7,6,5,4,3]]])\r\n",
        "print(arr1)\r\n",
        "print(type(arr1))\r\n",
        "print(arr1.ndim)\r\n",
        "print(\"\\n\")\r\n",
        "arr2 = np.array([[1,2,3,4,5],[1,2,3,4,6]])\r\n",
        "print(arr2)\r\n",
        "print(type(arr2))\r\n",
        "print(arr2.ndim)\r\n",
        "print(\"\\n\")\r\n",
        "arr3 = np.array([1,2,3,4,5])\r\n",
        "print(arr3)\r\n",
        "print(type(arr3))\r\n",
        "print(arr3.ndim)"
      ],
      "execution_count": 1,
      "outputs": [
        {
          "output_type": "stream",
          "text": [
            "[[[1 2 3 4 5]\n",
            "  [1 2 3 4 6]]\n",
            "\n",
            " [[0 9 8 7 7]\n",
            "  [7 6 5 4 3]]]\n",
            "<class 'numpy.ndarray'>\n",
            "3\n",
            "\n",
            "\n",
            "[[1 2 3 4 5]\n",
            " [1 2 3 4 6]]\n",
            "<class 'numpy.ndarray'>\n",
            "2\n",
            "\n",
            "\n",
            "[1 2 3 4 5]\n",
            "<class 'numpy.ndarray'>\n",
            "1\n"
          ],
          "name": "stdout"
        }
      ]
    },
    {
      "cell_type": "code",
      "metadata": {
        "colab": {
          "base_uri": "https://localhost:8080/"
        },
        "id": "mcYEj3K-m0t6",
        "outputId": "76490c03-dc08-4cc8-8abc-bb1f76a5a211"
      },
      "source": [
        "arr1_zero = np.zeros((3,3), dtype=float)\r\n",
        "print(arr1_zero)\r\n",
        "print(\"\\n\")\r\n",
        "arr2_zero = np.zeros((3,2),dtype=bool)\r\n",
        "print(arr2_zero)"
      ],
      "execution_count": 3,
      "outputs": [
        {
          "output_type": "stream",
          "text": [
            "[[0. 0. 0.]\n",
            " [0. 0. 0.]\n",
            " [0. 0. 0.]]\n",
            "\n",
            "\n",
            "[[False False]\n",
            " [False False]\n",
            " [False False]]\n"
          ],
          "name": "stdout"
        }
      ]
    },
    {
      "cell_type": "code",
      "metadata": {
        "colab": {
          "base_uri": "https://localhost:8080/"
        },
        "id": "13SBa_RcnIEL",
        "outputId": "81ba03ca-06f3-4c54-ae8a-e6ae10b3cb23"
      },
      "source": [
        "arr_range = np.arange(1,20,3, dtype=int)\r\n",
        "print(arr_range)"
      ],
      "execution_count": 5,
      "outputs": [
        {
          "output_type": "stream",
          "text": [
            "[ 1  4  7 10 13 16 19]\n"
          ],
          "name": "stdout"
        }
      ]
    },
    {
      "cell_type": "code",
      "metadata": {
        "colab": {
          "base_uri": "https://localhost:8080/"
        },
        "id": "tbuCt82knSun",
        "outputId": "a88ccc28-fce4-4b1d-ae19-1b72b17adccf"
      },
      "source": [
        "data = np.array([['','Col1','Col2'],['Row1',1,2],['Row2',3,4]])\r\n",
        "print(data)\r\n",
        "print(data[0][1])\r\n",
        "\r\n",
        "#retrieves 3rd column from all rows\r\n",
        "data[:,2]"
      ],
      "execution_count": 6,
      "outputs": [
        {
          "output_type": "stream",
          "text": [
            "[['' 'Col1' 'Col2']\n",
            " ['Row1' '1' '2']\n",
            " ['Row2' '3' '4']]\n",
            "Col1\n"
          ],
          "name": "stdout"
        },
        {
          "output_type": "execute_result",
          "data": {
            "text/plain": [
              "array(['Col2', '2', '4'], dtype='<U4')"
            ]
          },
          "metadata": {
            "tags": []
          },
          "execution_count": 6
        }
      ]
    },
    {
      "cell_type": "code",
      "metadata": {
        "colab": {
          "base_uri": "https://localhost:8080/"
        },
        "id": "RTzdt7UknXud",
        "outputId": "d9cab697-b4a6-49a9-81ba-3b8aef2d336e"
      },
      "source": [
        "#converting list,tuples and dictionaries to numpy array\r\n",
        "\r\n",
        "list1 = [\"paris\",\"NY\",\"Dehli\",\"India\"]\r\n",
        "print(type(list1),end=\",\")\r\n",
        "tuple1 = ('dog','cat','bat')\r\n",
        "print(type(tuple1),end=\",\")\r\n",
        "dictionary = {0:'yashvi',1:'heli',2:'dhara'}\r\n",
        "print(type(dictionary),'\\n')\r\n",
        "print('-------------------------------------------------------------\\n')\r\n",
        "arr3 = np.array(list1)\r\n",
        "print(arr3,type(arr3),'\\n')\r\n",
        "arr4 = np.array(tuple1)\r\n",
        "print(arr4,type(arr4),'\\n')\r\n",
        "arr5 = np.array(dictionary)\r\n",
        "print(arr5,type(arr5),'\\n')\r\n",
        "print('This is 0 dimensional array. Hence not useful--> dimension of arr5 = ',arr5.ndim)"
      ],
      "execution_count": 8,
      "outputs": [
        {
          "output_type": "stream",
          "text": [
            "<class 'list'>,<class 'tuple'>,<class 'dict'> \n",
            "\n",
            "-------------------------------------------------------------\n",
            "\n",
            "['paris' 'NY' 'Dehli' 'India'] <class 'numpy.ndarray'> \n",
            "\n",
            "['dog' 'cat' 'bat'] <class 'numpy.ndarray'> \n",
            "\n",
            "{0: 'yashvi', 1: 'heli', 2: 'dhara'} <class 'numpy.ndarray'> \n",
            "\n",
            "This is 0 dimensional array. Hence not useful--> dimension of arr5 =  0\n"
          ],
          "name": "stdout"
        }
      ]
    },
    {
      "cell_type": "code",
      "metadata": {
        "colab": {
          "base_uri": "https://localhost:8080/"
        },
        "id": "C7Yq9hJInbMg",
        "outputId": "0c71bfbb-d311-4441-de9c-dd5fdb777846"
      },
      "source": [
        "#reshaping 1d array (i.e. tuple1 to 1d array) to 2d array\r\n",
        "arr4_2d = arr4.reshape(3,1)\r\n",
        "print(arr4_2d,'\\n','dimension of arr4 after reshaping is :',arr4_2d.ndim)\r\n",
        "arr4_2d[:,0]\r\n",
        "print(arr4_2d[0][0],'&',arr4_2d[1][0],'&',arr4_2d[2][0])\r\n",
        "\r\n",
        "#dictionary to numpy array\r\n",
        "\r\n",
        "result = dictionary.items()\r\n",
        "data = list(result)\r\n",
        "ndarray=np.array(data)\r\n",
        "\r\n",
        "print('\\ndict to array is :\\n',ndarray)\r\n",
        "print('\\n',ndarray.ndim)\r\n",
        "print('\\n',type(ndarray))\r\n",
        "print('\\n',type(dictionary))"
      ],
      "execution_count": 9,
      "outputs": [
        {
          "output_type": "stream",
          "text": [
            "[['dog']\n",
            " ['cat']\n",
            " ['bat']] \n",
            " dimension of arr4 after reshaping is : 2\n",
            "dog & cat & bat\n",
            "\n",
            "dict to array is :\n",
            " [['0' 'yashvi']\n",
            " ['1' 'heli']\n",
            " ['2' 'dhara']]\n",
            "\n",
            " 2\n",
            "\n",
            " <class 'numpy.ndarray'>\n",
            "\n",
            " <class 'dict'>\n"
          ],
          "name": "stdout"
        }
      ]
    },
    {
      "cell_type": "code",
      "metadata": {
        "colab": {
          "base_uri": "https://localhost:8080/",
          "height": 166
        },
        "id": "yjrqOgEGnoUv",
        "outputId": "97d24afb-82cd-4506-d2f8-e26a824a4ed1"
      },
      "source": [
        "import pandas as pd\r\n",
        "#creating dataframe from various data types\r\n",
        "\r\n",
        "#from dictionary\r\n",
        "data = {\"agents\":[\"ninja\",\"beast\",\"dragon\",\"nerd\"],'ranks':[50,60,70,80],'cost':[10,20,30,40]}\r\n",
        "df3 = pd.DataFrame(data)\r\n",
        "df3"
      ],
      "execution_count": 11,
      "outputs": [
        {
          "output_type": "execute_result",
          "data": {
            "text/html": [
              "<div>\n",
              "<style scoped>\n",
              "    .dataframe tbody tr th:only-of-type {\n",
              "        vertical-align: middle;\n",
              "    }\n",
              "\n",
              "    .dataframe tbody tr th {\n",
              "        vertical-align: top;\n",
              "    }\n",
              "\n",
              "    .dataframe thead th {\n",
              "        text-align: right;\n",
              "    }\n",
              "</style>\n",
              "<table border=\"1\" class=\"dataframe\">\n",
              "  <thead>\n",
              "    <tr style=\"text-align: right;\">\n",
              "      <th></th>\n",
              "      <th>agents</th>\n",
              "      <th>ranks</th>\n",
              "      <th>cost</th>\n",
              "    </tr>\n",
              "  </thead>\n",
              "  <tbody>\n",
              "    <tr>\n",
              "      <th>0</th>\n",
              "      <td>ninja</td>\n",
              "      <td>50</td>\n",
              "      <td>10</td>\n",
              "    </tr>\n",
              "    <tr>\n",
              "      <th>1</th>\n",
              "      <td>beast</td>\n",
              "      <td>60</td>\n",
              "      <td>20</td>\n",
              "    </tr>\n",
              "    <tr>\n",
              "      <th>2</th>\n",
              "      <td>dragon</td>\n",
              "      <td>70</td>\n",
              "      <td>30</td>\n",
              "    </tr>\n",
              "    <tr>\n",
              "      <th>3</th>\n",
              "      <td>nerd</td>\n",
              "      <td>80</td>\n",
              "      <td>40</td>\n",
              "    </tr>\n",
              "  </tbody>\n",
              "</table>\n",
              "</div>"
            ],
            "text/plain": [
              "   agents  ranks  cost\n",
              "0   ninja     50    10\n",
              "1   beast     60    20\n",
              "2  dragon     70    30\n",
              "3    nerd     80    40"
            ]
          },
          "metadata": {
            "tags": []
          },
          "execution_count": 11
        }
      ]
    },
    {
      "cell_type": "code",
      "metadata": {
        "colab": {
          "base_uri": "https://localhost:8080/",
          "height": 225
        },
        "id": "pcV8lJPhnr0C",
        "outputId": "3e9cb6d4-d401-4a8a-cf4c-18d83e1f6e02"
      },
      "source": [
        "#from list data-type\r\n",
        "ls1 = ['jan','feb','march','april','may','june']\r\n",
        "df1 = pd.DataFrame(ls1,columns=['months'])\r\n",
        "df1"
      ],
      "execution_count": 12,
      "outputs": [
        {
          "output_type": "execute_result",
          "data": {
            "text/html": [
              "<div>\n",
              "<style scoped>\n",
              "    .dataframe tbody tr th:only-of-type {\n",
              "        vertical-align: middle;\n",
              "    }\n",
              "\n",
              "    .dataframe tbody tr th {\n",
              "        vertical-align: top;\n",
              "    }\n",
              "\n",
              "    .dataframe thead th {\n",
              "        text-align: right;\n",
              "    }\n",
              "</style>\n",
              "<table border=\"1\" class=\"dataframe\">\n",
              "  <thead>\n",
              "    <tr style=\"text-align: right;\">\n",
              "      <th></th>\n",
              "      <th>months</th>\n",
              "    </tr>\n",
              "  </thead>\n",
              "  <tbody>\n",
              "    <tr>\n",
              "      <th>0</th>\n",
              "      <td>jan</td>\n",
              "    </tr>\n",
              "    <tr>\n",
              "      <th>1</th>\n",
              "      <td>feb</td>\n",
              "    </tr>\n",
              "    <tr>\n",
              "      <th>2</th>\n",
              "      <td>march</td>\n",
              "    </tr>\n",
              "    <tr>\n",
              "      <th>3</th>\n",
              "      <td>april</td>\n",
              "    </tr>\n",
              "    <tr>\n",
              "      <th>4</th>\n",
              "      <td>may</td>\n",
              "    </tr>\n",
              "    <tr>\n",
              "      <th>5</th>\n",
              "      <td>june</td>\n",
              "    </tr>\n",
              "  </tbody>\n",
              "</table>\n",
              "</div>"
            ],
            "text/plain": [
              "  months\n",
              "0    jan\n",
              "1    feb\n",
              "2  march\n",
              "3  april\n",
              "4    may\n",
              "5   june"
            ]
          },
          "metadata": {
            "tags": []
          },
          "execution_count": 12
        }
      ]
    },
    {
      "cell_type": "code",
      "metadata": {
        "colab": {
          "base_uri": "https://localhost:8080/",
          "height": 166
        },
        "id": "IgM89Nian0Lv",
        "outputId": "57bacbed-c4f8-442e-98e4-454ce46c59ab"
      },
      "source": [
        "#from tuples\r\n",
        "\r\n",
        "tup = ('mon','tue','wed','thu')\r\n",
        "df2 = pd.DataFrame(tup,columns=['days'])\r\n",
        "df2"
      ],
      "execution_count": 13,
      "outputs": [
        {
          "output_type": "execute_result",
          "data": {
            "text/html": [
              "<div>\n",
              "<style scoped>\n",
              "    .dataframe tbody tr th:only-of-type {\n",
              "        vertical-align: middle;\n",
              "    }\n",
              "\n",
              "    .dataframe tbody tr th {\n",
              "        vertical-align: top;\n",
              "    }\n",
              "\n",
              "    .dataframe thead th {\n",
              "        text-align: right;\n",
              "    }\n",
              "</style>\n",
              "<table border=\"1\" class=\"dataframe\">\n",
              "  <thead>\n",
              "    <tr style=\"text-align: right;\">\n",
              "      <th></th>\n",
              "      <th>days</th>\n",
              "    </tr>\n",
              "  </thead>\n",
              "  <tbody>\n",
              "    <tr>\n",
              "      <th>0</th>\n",
              "      <td>mon</td>\n",
              "    </tr>\n",
              "    <tr>\n",
              "      <th>1</th>\n",
              "      <td>tue</td>\n",
              "    </tr>\n",
              "    <tr>\n",
              "      <th>2</th>\n",
              "      <td>wed</td>\n",
              "    </tr>\n",
              "    <tr>\n",
              "      <th>3</th>\n",
              "      <td>thu</td>\n",
              "    </tr>\n",
              "  </tbody>\n",
              "</table>\n",
              "</div>"
            ],
            "text/plain": [
              "  days\n",
              "0  mon\n",
              "1  tue\n",
              "2  wed\n",
              "3  thu"
            ]
          },
          "metadata": {
            "tags": []
          },
          "execution_count": 13
        }
      ]
    },
    {
      "cell_type": "code",
      "metadata": {
        "colab": {
          "base_uri": "https://localhost:8080/",
          "height": 136
        },
        "id": "eLB2Ukf6n3lw",
        "outputId": "47cc2635-802b-4f81-d217-6f3ea3943f9e"
      },
      "source": [
        "#from numpy array\r\n",
        "num_arr = np.array([[2,4],\r\n",
        "                    [4,16],\r\n",
        "                    [8,64]])\r\n",
        "\r\n",
        "df4 = pd.DataFrame(num_arr,columns=['num','square'])\r\n",
        "df4['square_of_square'] = df4['square']**2\r\n",
        "df4"
      ],
      "execution_count": 14,
      "outputs": [
        {
          "output_type": "execute_result",
          "data": {
            "text/html": [
              "<div>\n",
              "<style scoped>\n",
              "    .dataframe tbody tr th:only-of-type {\n",
              "        vertical-align: middle;\n",
              "    }\n",
              "\n",
              "    .dataframe tbody tr th {\n",
              "        vertical-align: top;\n",
              "    }\n",
              "\n",
              "    .dataframe thead th {\n",
              "        text-align: right;\n",
              "    }\n",
              "</style>\n",
              "<table border=\"1\" class=\"dataframe\">\n",
              "  <thead>\n",
              "    <tr style=\"text-align: right;\">\n",
              "      <th></th>\n",
              "      <th>num</th>\n",
              "      <th>square</th>\n",
              "      <th>square_of_square</th>\n",
              "    </tr>\n",
              "  </thead>\n",
              "  <tbody>\n",
              "    <tr>\n",
              "      <th>0</th>\n",
              "      <td>2</td>\n",
              "      <td>4</td>\n",
              "      <td>16</td>\n",
              "    </tr>\n",
              "    <tr>\n",
              "      <th>1</th>\n",
              "      <td>4</td>\n",
              "      <td>16</td>\n",
              "      <td>256</td>\n",
              "    </tr>\n",
              "    <tr>\n",
              "      <th>2</th>\n",
              "      <td>8</td>\n",
              "      <td>64</td>\n",
              "      <td>4096</td>\n",
              "    </tr>\n",
              "  </tbody>\n",
              "</table>\n",
              "</div>"
            ],
            "text/plain": [
              "   num  square  square_of_square\n",
              "0    2       4                16\n",
              "1    4      16               256\n",
              "2    8      64              4096"
            ]
          },
          "metadata": {
            "tags": []
          },
          "execution_count": 14
        }
      ]
    },
    {
      "cell_type": "code",
      "metadata": {
        "id": "vjLUNFKcn6Mu"
      },
      "source": [
        ""
      ],
      "execution_count": 16,
      "outputs": []
    }
  ]
}