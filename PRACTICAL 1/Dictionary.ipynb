{
  "nbformat": 4,
  "nbformat_minor": 0,
  "metadata": {
    "colab": {
      "name": "Untitled3.ipynb",
      "provenance": [],
      "collapsed_sections": []
    },
    "kernelspec": {
      "name": "python3",
      "display_name": "Python 3"
    }
  },
  "cells": [
    {
      "cell_type": "code",
      "metadata": {
        "colab": {
          "base_uri": "https://localhost:8080/"
        },
        "id": "ASZ5GpBxlQS_",
        "outputId": "4faba76a-0413-4166-bf81-6847009bd312"
      },
      "source": [
        "a={\"name\":\"Yashvi\",\"age\":20,\"branch\":\"CSE\",(\"h\",\"w\"):(119,60.5)}\r\n",
        "print(a)"
      ],
      "execution_count": 1,
      "outputs": [
        {
          "output_type": "stream",
          "text": [
            "{'name': 'Yashvi', 'age': 20, 'branch': 'CSE', ('h', 'w'): (119, 60.5)}\n"
          ],
          "name": "stdout"
        }
      ]
    },
    {
      "cell_type": "code",
      "metadata": {
        "colab": {
          "base_uri": "https://localhost:8080/"
        },
        "id": "tRXYxlV8lhtl",
        "outputId": "32457339-9a12-4deb-f66f-de08a336f43a"
      },
      "source": [
        "#using loop for creating dictionary\r\n",
        "{x:x**3 for x in (2,4,6,8)}"
      ],
      "execution_count": 2,
      "outputs": [
        {
          "output_type": "execute_result",
          "data": {
            "text/plain": [
              "{2: 8, 4: 64, 6: 216, 8: 512}"
            ]
          },
          "metadata": {
            "tags": []
          },
          "execution_count": 2
        }
      ]
    },
    {
      "cell_type": "code",
      "metadata": {
        "colab": {
          "base_uri": "https://localhost:8080/"
        },
        "id": "nxKsNTZHlomp",
        "outputId": "fd0b8e00-d58f-4010-ccfc-d676f774d89c"
      },
      "source": [
        "dict(King = 444, Queen = 555, Jack = 333)"
      ],
      "execution_count": 3,
      "outputs": [
        {
          "output_type": "execute_result",
          "data": {
            "text/plain": [
              "{'Jack': 333, 'King': 444, 'Queen': 555}"
            ]
          },
          "metadata": {
            "tags": []
          },
          "execution_count": 3
        }
      ]
    },
    {
      "cell_type": "code",
      "metadata": {
        "colab": {
          "base_uri": "https://localhost:8080/"
        },
        "id": "bw000Mnvlys5",
        "outputId": "e303ee2e-a2c7-4048-8c9d-ae730bc68641"
      },
      "source": [
        "#printing only keys\r\n",
        "print(a.keys())\r\n",
        "\r\n",
        "#printing only values\r\n",
        "print(a.values())\r\n",
        "\r\n",
        "#printing only whole key value term\r\n",
        "print(a.items())"
      ],
      "execution_count": 4,
      "outputs": [
        {
          "output_type": "stream",
          "text": [
            "dict_keys(['name', 'age', 'branch', ('h', 'w')])\n",
            "dict_values(['Yashvi', 20, 'CSE', (119, 60.5)])\n",
            "dict_items([('name', 'Yashvi'), ('age', 20), ('branch', 'CSE'), (('h', 'w'), (119, 60.5))])\n"
          ],
          "name": "stdout"
        }
      ]
    },
    {
      "cell_type": "code",
      "metadata": {
        "colab": {
          "base_uri": "https://localhost:8080/"
        },
        "id": "s7idsat5l38z",
        "outputId": "4b361798-4d28-4517-e2d0-0614bf773e14"
      },
      "source": [
        "#accessing an element by its key\r\n",
        "print(a.get(\"age\"))\r\n",
        "\r\n",
        "#accessing an elemnet by the key which is not present\r\n",
        "print(a.get(\"ag\"))"
      ],
      "execution_count": 5,
      "outputs": [
        {
          "output_type": "stream",
          "text": [
            "20\n",
            "None\n"
          ],
          "name": "stdout"
        }
      ]
    },
    {
      "cell_type": "code",
      "metadata": {
        "colab": {
          "base_uri": "https://localhost:8080/"
        },
        "id": "A9wTftyWl98s",
        "outputId": "afec3e74-92b3-4da5-ab24-c854a4b4021c"
      },
      "source": [
        "#removing an element\r\n",
        "print(a.popitem())\r\n",
        "print(a)"
      ],
      "execution_count": 6,
      "outputs": [
        {
          "output_type": "stream",
          "text": [
            "(('h', 'w'), (119, 60.5))\n",
            "{'name': 'Yashvi', 'age': 20, 'branch': 'CSE'}\n"
          ],
          "name": "stdout"
        }
      ]
    },
    {
      "cell_type": "code",
      "metadata": {
        "colab": {
          "base_uri": "https://localhost:8080/"
        },
        "id": "IEyjuFYBmDvS",
        "outputId": "502eb619-362f-4ce4-81a6-e942256bc471"
      },
      "source": [
        "#poping an item using key\r\n",
        "print(a.pop(\"branch\"))\r\n",
        "print(a)"
      ],
      "execution_count": 7,
      "outputs": [
        {
          "output_type": "stream",
          "text": [
            "CSE\n",
            "{'name': 'Yashvi', 'age': 20}\n"
          ],
          "name": "stdout"
        }
      ]
    },
    {
      "cell_type": "code",
      "metadata": {
        "colab": {
          "base_uri": "https://localhost:8080/"
        },
        "id": "DO-PRknDmGXM",
        "outputId": "5206d9dd-f2d0-4580-de99-b3a7bf2caa2f"
      },
      "source": [
        "#inserting an item \r\n",
        "b={(\"h\",\"w\"):(119,60.5)}\r\n",
        "a.update(b)\r\n",
        "print(a)"
      ],
      "execution_count": 8,
      "outputs": [
        {
          "output_type": "stream",
          "text": [
            "{'name': 'Yashvi', 'age': 20, ('h', 'w'): (119, 60.5)}\n"
          ],
          "name": "stdout"
        }
      ]
    },
    {
      "cell_type": "code",
      "metadata": {
        "colab": {
          "base_uri": "https://localhost:8080/"
        },
        "id": "csNqpC8cmKCl",
        "outputId": "3c9a7e50-c390-4b2b-fcb6-d386fdd18581"
      },
      "source": [
        "#Updating a value of a dictionary  \r\n",
        "a.update({\"name\":\"Yashvi Soni\"})\r\n",
        "print(a)"
      ],
      "execution_count": 10,
      "outputs": [
        {
          "output_type": "stream",
          "text": [
            "{'name': 'Yashvi Soni', 'age': 20, ('h', 'w'): (119, 60.5)}\n"
          ],
          "name": "stdout"
        }
      ]
    },
    {
      "cell_type": "code",
      "metadata": {
        "colab": {
          "base_uri": "https://localhost:8080/"
        },
        "id": "rYWhGZIMmNSa",
        "outputId": "62b3777c-1165-4db1-99bd-5cc32efbf50c"
      },
      "source": [
        "#accessing a tuple element from dictionary\r\n",
        "print(a[('h','w')])\r\n",
        "print(a[('h','w')][0])"
      ],
      "execution_count": 11,
      "outputs": [
        {
          "output_type": "stream",
          "text": [
            "(119, 60.5)\n",
            "119\n"
          ],
          "name": "stdout"
        }
      ]
    },
    {
      "cell_type": "code",
      "metadata": {
        "id": "U6MoSSkGmT_X"
      },
      "source": [
        ""
      ],
      "execution_count": null,
      "outputs": []
    }
  ]
}